{
 "cells": [
  {
   "cell_type": "markdown",
   "metadata": {},
   "source": [
    "# Run just the linear regression, as a benchmark"
   ]
  },
  {
   "cell_type": "markdown",
   "metadata": {},
   "source": [
    "We will run just the linear regression, against each of the created pre-processed data sets."
   ]
  },
  {
   "cell_type": "markdown",
   "metadata": {},
   "source": [
    "### let's take care of the imports/functions to get running..."
   ]
  },
  {
   "cell_type": "code",
   "execution_count": 4,
   "metadata": {
    "collapsed": false
   },
   "outputs": [
    {
     "name": "stdout",
     "output_type": "stream",
     "text": [
      "test.csv\n",
      "test.csv.zip\n",
      "test_data_all_features.csv\n",
      "test_data_cats.csv\n",
      "test_data_conts.csv\n",
      "test_data_new.csv\n",
      "test_data_orig_only.csv\n",
      "train.csv\n",
      "train.csv.zip\n",
      "train_data_all_features.csv\n",
      "train_data_cats.csv\n",
      "train_data_conts.csv\n",
      "train_data_new.csv\n",
      "train_data_orig_only.csv\n",
      "\n",
      "clusters_cat.npy\n",
      "clusters_cat.npy_01.npy\n",
      "clusters_cat.npy_02.npy\n",
      "clusters_cont.npy\n",
      "clusters_cont.npy_01.npy\n",
      "clusters_cont.npy_02.npy\n",
      "clusters.npy\n",
      "clusters.npy_01.npy\n",
      "clusters.npy_02.npy\n",
      "grid_L2_KNN.pkl\n",
      "grid_L2_Lin.pkl\n",
      "grid_regr0.pkl\n",
      "grid_regr1.pkl\n",
      "grid_regr2.pkl\n",
      "grid_regr3.pkl\n",
      "MAE_tracking.npy\n",
      "oldmodels\n",
      "stat_tracking-Linear.npy\n",
      "x_layer2.npy\n",
      "x_layer2.npy_01.npy\n",
      "x_layer2_w_clusters.npy\n",
      "x_layer2_w_clusters.npy_01.npy\n",
      "\n",
      "result_submission_all_features_linear.csv\n",
      "result_submission_cats_linear.csv\n",
      "result_submission_conts_linear.csv\n",
      "result_submission_new_linear.csv\n",
      "result_submission_orig_only_linear.csv\n",
      "result_submission_stack_linear.csv\n",
      "result_submission_stack_xgb.csv\n",
      "\n"
     ]
    }
   ],
   "source": [
    "\n",
    "import os,sys,time,random,math,time\n",
    "import tarfile, zipfile\n",
    "\n",
    "import numpy as np # linear algebra\n",
    "import pandas as pd # data processing, CSV file I/O (e.g. pd.read_csv)\n",
    "\n",
    "from sklearn.linear_model import LinearRegression\n",
    "from sklearn.cross_validation import train_test_split, StratifiedShuffleSplit\n",
    "from sklearn.externals import joblib\n",
    "\n",
    "import itertools\n",
    "\n",
    "import matplotlib.pyplot as plt\n",
    "from IPython.display import display, Image\n",
    "\n",
    "from subprocess import check_output\n",
    "datadir=\"./input/\"\n",
    "cachedir=\"./cache/\"\n",
    "outdir='./output/'\n",
    "\n",
    "print(check_output([\"ls\", datadir]).decode(\"utf8\"))\n",
    "print(check_output([\"ls\", cachedir]).decode(\"utf8\"))\n",
    "print(check_output([\"ls\", outdir]).decode(\"utf8\"))\n",
    "\n",
    "%matplotlib inline  "
   ]
  },
  {
   "cell_type": "code",
   "execution_count": 5,
   "metadata": {
    "collapsed": true
   },
   "outputs": [],
   "source": [
    "def loadData(datadir,filename):\n",
    "    # Load the wholesale customers dataset\n",
    "    #data = pd.read_csv(filename)\n",
    "    data = ''\n",
    "    print (\"loading: \"+datadir+filename)\n",
    "    try:\n",
    "        if zipfile.is_zipfile(datadir+filename):\n",
    "            z = zipfile.ZipFile(datadir+filename)\n",
    "            filename = z.open(filename[:-4])\n",
    "        else:\n",
    "            filename=datadir+filename\n",
    "        data = pd.read_csv(filename, parse_dates=True)  \n",
    "        print (\"Dataset has {} samples with {} features each.\".format(*data.shape))\n",
    "    except Exception as e:\n",
    "        print (\"Dataset could not be loaded. Is the dataset missing?\")\n",
    "        print(e)\n",
    "    return data\n",
    "\n",
    "def writeData(data,filename):\n",
    "    # Load the wholesale customers dataset\n",
    "    try:\n",
    "        data.to_csv(filename, index=False)\n",
    "    except Exception as e:\n",
    "        print (\"Dataset could not be written.\")\n",
    "        print(e)\n",
    "    verify=[]\n",
    "    try:\n",
    "        with open(filename, 'r') as f:\n",
    "            for line in f:\n",
    "                verify.append(line)\n",
    "        f.closed\n",
    "        return verify[:5]\n",
    "    except IOError:\n",
    "        sys.std\n",
    "        "
   ]
  },
  {
   "cell_type": "code",
   "execution_count": 6,
   "metadata": {
    "collapsed": false
   },
   "outputs": [],
   "source": [
    "def prepdata(data_name,verbose=False):\n",
    "    ### and now, let's import the data\n",
    "    data = loadData(datadir,'train_data_'+data_name+'.csv')\n",
    "    if verbose==True:\n",
    "        display(data.info())\n",
    "        display(data.head(2))\n",
    "\n",
    "    test_data= loadData(datadir,'test_data_'+data_name+'.csv') \n",
    "    if verbose==True:\n",
    "        display(test_data.info())\n",
    "        display(test_data.head(2))\n",
    "    # we don't want the ID columns in X\n",
    "    x=data.drop(['id','loss'],1).values\n",
    "    # loss is our label\n",
    "    #y=data['loss'].values\n",
    "    y = np.log(data['loss']+shift).ravel()\n",
    "\n",
    "    return x,y,test_data\n",
    "\n",
    "\n"
   ]
  },
  {
   "cell_type": "code",
   "execution_count": 7,
   "metadata": {
    "collapsed": false
   },
   "outputs": [],
   "source": [
    "  def predict_for_dataset(data_name):\n",
    "    \n",
    "    #for the current data, load and prep     \n",
    "    x,y,test_data=prepdata(data_name)\n",
    "    \n",
    "    #  train/validation split\n",
    "    X_train, X_validation, y_train, y_validation = train_test_split( x,\n",
    "                                                                    y,\n",
    "                                                                   test_size=0.20,\n",
    "                                                                    random_state=42)\n",
    "    display(\"sample train data size:{}\".format(len(y_train)))\n",
    "\n",
    "    #set up our regression\n",
    "    estimator=LinearRegression(n_jobs=-1)\n",
    "    \n",
    "    #train the estimator\n",
    "    start_time = time.time()\n",
    "    estimator.fit(X_train,y_train)\n",
    "    fit_time=time.time()-start_time\n",
    "    \n",
    "    #test on the validation set\n",
    "    start_time = time.time()\n",
    "    curr_predict=np.array(estimator.predict(X_validation)).copy()\n",
    "    predict_time=time.time()-start_time\n",
    "\n",
    "    #track the run info\n",
    "    MAE=np.mean(abs(np.exp(curr_predict) - np.exp(y_validation)))\n",
    "\n",
    "    #show some stats on that last regressions run\n",
    "    print(\"\\nfit time:{}s\".format(round(fit_time, 3) ))\n",
    "    print(\"Mean abs error: {:.2f}\".format(MAE))\n",
    "    print(\"predict time:{}s\".format(round(predict_time, 3) ))\n",
    "    \n",
    "    #retrain on all the data for predicting the test set\n",
    "    start_time = time.time()\n",
    "    estimator.fit(x,y)\n",
    "    final_fit_time=time.time()-start_time\n",
    "\n",
    "    #the Final Prediction on the test data\n",
    "    x_test_data=test_data.drop(['loss','id'],1).values# didn't have the loss column before, make it go away! don't need ID!\n",
    "    \n",
    "    start_time = time.time()\n",
    "    test_data['loss']=np.exp(estimator.predict(x_test_data))-shift\n",
    "    final_predict_time=time.time()-start_time\n",
    "    del x_test_data\n",
    "\n",
    "    result=test_data[['id','loss',]]\n",
    "    output_fname='result_submission_'+data_name+'_linear.csv'\n",
    "    print(\"\\nFinal predict time:{}\\nfinal sample\".format(final_predict_time))\n",
    "    display(writeData(result,outdir+output_fname))\n",
    "    return [data_name,MAE,fit_time,predict_time,final_fit_time,final_predict_time]\n",
    "\n"
   ]
  },
  {
   "cell_type": "code",
   "execution_count": 8,
   "metadata": {
    "collapsed": false,
    "scrolled": true
   },
   "outputs": [
    {
     "name": "stdout",
     "output_type": "stream",
     "text": [
      "loading: ./input/train_data_new.csv\n",
      "Dataset has 188318 samples with 5 features each.\n",
      "loading: ./input/test_data_new.csv\n",
      "Dataset has 125546 samples with 5 features each.\n"
     ]
    },
    {
     "data": {
      "text/plain": [
       "'sample train data size:150654'"
      ]
     },
     "metadata": {},
     "output_type": "display_data"
    },
    {
     "name": "stdout",
     "output_type": "stream",
     "text": [
      "\n",
      "fit time:0.056s\n",
      "Mean abs error: 1797.68\n",
      "predict time:0.001s\n",
      "\n",
      "Final predict time:0.00483798980713\n",
      "final sample\n"
     ]
    },
    {
     "data": {
      "text/plain": [
       "['id,loss\\n',\n",
       " '4,2131.26566595\\n',\n",
       " '6,2356.8063542\\n',\n",
       " '9,2164.22158207\\n',\n",
       " '12,2102.76094405\\n']"
      ]
     },
     "metadata": {},
     "output_type": "display_data"
    },
    {
     "name": "stdout",
     "output_type": "stream",
     "text": [
      "loading: ./input/train_data_conts.csv\n",
      "Dataset has 188318 samples with 16 features each.\n",
      "loading: ./input/test_data_conts.csv\n",
      "Dataset has 125546 samples with 16 features each.\n"
     ]
    },
    {
     "data": {
      "text/plain": [
       "'sample train data size:150654'"
      ]
     },
     "metadata": {},
     "output_type": "display_data"
    },
    {
     "name": "stdout",
     "output_type": "stream",
     "text": [
      "\n",
      "fit time:0.1s\n",
      "Mean abs error: 1792.47\n",
      "predict time:0.001s\n",
      "\n",
      "Final predict time:0.00751304626465\n",
      "final sample\n"
     ]
    },
    {
     "data": {
      "text/plain": [
       "['id,loss\\n',\n",
       " '4,1959.16236284\\n',\n",
       " '6,2269.56077302\\n',\n",
       " '9,2407.42519088\\n',\n",
       " '12,2350.71821889\\n']"
      ]
     },
     "metadata": {},
     "output_type": "display_data"
    },
    {
     "name": "stdout",
     "output_type": "stream",
     "text": [
      "loading: ./input/train_data_cats.csv\n",
      "Dataset has 188318 samples with 118 features each.\n",
      "loading: ./input/test_data_cats.csv\n",
      "Dataset has 125546 samples with 118 features each.\n"
     ]
    },
    {
     "data": {
      "text/plain": [
       "'sample train data size:150654'"
      ]
     },
     "metadata": {},
     "output_type": "display_data"
    },
    {
     "name": "stdout",
     "output_type": "stream",
     "text": [
      "\n",
      "fit time:4.0s\n",
      "Mean abs error: 1289.14\n",
      "predict time:0.015s\n",
      "\n",
      "Final predict time:0.0797891616821\n",
      "final sample\n"
     ]
    },
    {
     "data": {
      "text/plain": [
       "['id,loss\\n',\n",
       " '4,1598.78955834\\n',\n",
       " '6,1892.83552099\\n',\n",
       " '9,11804.3214499\\n',\n",
       " '12,4425.90920497\\n']"
      ]
     },
     "metadata": {},
     "output_type": "display_data"
    },
    {
     "name": "stdout",
     "output_type": "stream",
     "text": [
      "loading: ./input/train_data_orig_only.csv\n",
      "Dataset has 188318 samples with 132 features each.\n",
      "loading: ./input/test_data_orig_only.csv\n",
      "Dataset has 125546 samples with 132 features each.\n"
     ]
    },
    {
     "data": {
      "text/plain": [
       "'sample train data size:150654'"
      ]
     },
     "metadata": {},
     "output_type": "display_data"
    },
    {
     "name": "stdout",
     "output_type": "stream",
     "text": [
      "\n",
      "fit time:4.635s\n",
      "Mean abs error: 1277.38\n",
      "predict time:0.015s\n",
      "\n",
      "Final predict time:0.0852301120758\n",
      "final sample\n"
     ]
    },
    {
     "data": {
      "text/plain": [
       "['id,loss\\n',\n",
       " '4,1396.61752665\\n',\n",
       " '6,1821.95328877\\n',\n",
       " '9,12825.9715076\\n',\n",
       " '12,4532.90009162\\n']"
      ]
     },
     "metadata": {},
     "output_type": "display_data"
    },
    {
     "name": "stdout",
     "output_type": "stream",
     "text": [
      "loading: ./input/train_data_all_features.csv\n",
      "Dataset has 188318 samples with 135 features each.\n",
      "loading: ./input/test_data_all_features.csv\n",
      "Dataset has 125546 samples with 135 features each.\n"
     ]
    },
    {
     "data": {
      "text/plain": [
       "'sample train data size:150654'"
      ]
     },
     "metadata": {},
     "output_type": "display_data"
    },
    {
     "name": "stdout",
     "output_type": "stream",
     "text": [
      "\n",
      "fit time:4.723s\n",
      "Mean abs error: 1276.01\n",
      "predict time:0.011s\n",
      "\n",
      "Final predict time:0.0851101875305\n",
      "final sample\n"
     ]
    },
    {
     "data": {
      "text/plain": [
       "['id,loss\\n',\n",
       " '4,1374.45537539\\n',\n",
       " '6,1843.67823927\\n',\n",
       " '9,12789.3271178\\n',\n",
       " '12,4513.51479623\\n']"
      ]
     },
     "metadata": {},
     "output_type": "display_data"
    }
   ],
   "source": [
    "stat_tracking=[] # to hold the returned stats from each run\n",
    "shift=200\n",
    "data_names=['new','conts','cats','orig_only','all_features'] # the name of each data set from preprocess\n",
    "for data_name in data_names:\n",
    "    # Train and predict on validataion set, then again on test set.\n",
    "    stat_tracking.append(predict_for_dataset(data_name))\n",
    "    \n",
    "joblib.dump(stat_tracking,cachedir+'stat_tracking-Linear.npy')"
   ]
  },
  {
   "cell_type": "code",
   "execution_count": 9,
   "metadata": {
    "collapsed": false
   },
   "outputs": [
    {
     "data": {
      "image/png": "[encoded data removed]",
      "text/plain": [
       "<matplotlib.figure.Figure at 0x7eff8cd41390>"
      ]
     },
     "metadata": {},
     "output_type": "display_data"
    },
    {
     "data": {
      "image/png": "[encoded data removed]",
      "text/plain": [
       "<matplotlib.figure.Figure at 0x7eff5c43ac50>"
      ]
     },
     "metadata": {},
     "output_type": "display_data"
    },
    {
     "data": {
      "image/png": "[encoded data removed]",
      "text/plain": [
       "<matplotlib.figure.Figure at 0x7eff5c4e5fd0>"
      ]
     },
     "metadata": {},
     "output_type": "display_data"
    },
    {
     "data": {
      "text/plain": [
       "['./cache/stat_tracking-Linear.npy']"
      ]
     },
     "execution_count": 9,
     "metadata": {},
     "output_type": "execute_result"
    }
   ],
   "source": [
    "\n",
    "#display(stat_tracking)\n",
    "run=[]\n",
    "MAEs=[]\n",
    "fit_times=[]\n",
    "predict_times=[]\n",
    "final_fit_time=[]\n",
    "final_pred_times=[]\n",
    "for stat in stat_tracking:\n",
    "    run.append(stat[0])\n",
    "    MAEs.append(stat[1])\n",
    "    fit_times.append(stat[2])\n",
    "    predict_times.append(stat[3])\n",
    "    final_fit_time.append(stat[4])\n",
    "    final_pred_times.append(stat[5])\n",
    "    \n",
    "plt.figure(figsize=(16,4))\n",
    "plt.plot(MAEs)\n",
    "plt.xticks(range(len(run)), run)\n",
    "plt.ylabel('MAE')\n",
    "plt.title('MAE per run')\n",
    "plt.show()\n",
    "\n",
    "plt.figure(figsize=(16,4))\n",
    "plt.plot(fit_times,label='fit')\n",
    "plt.plot(final_fit_time,label='final fit')\n",
    "plt.xticks(range(len(run)), run )\n",
    "plt.ylabel('Time')\n",
    "plt.title('Train Time')\n",
    "plt.legend(loc='best')\n",
    "plt.show()\n",
    "\n",
    "plt.figure(figsize=(16,4))\n",
    "plt.plot(predict_times,label='predict')\n",
    "plt.plot(final_pred_times,label='final predict')\n",
    "plt.xticks(range(len(run)), run )\n",
    "plt.ylabel('Time')\n",
    "plt.title('Predict Time')\n",
    "plt.legend(loc='best')\n",
    "plt.show()\n",
    "\n"
   ]
  },
  {
   "cell_type": "markdown",
   "metadata": {},
   "source": [
    "### EOL"
   ]
  }
 ],
 "metadata": {
  "kernelspec": {
   "display_name": "Python 2",
   "language": "python",
   "name": "python2"
  },
  "language_info": {
   "codemirror_mode": {
    "name": "ipython",
    "version": 2
   },
   "file_extension": ".py",
   "mimetype": "text/x-python",
   "name": "python",
   "nbconvert_exporter": "python",
   "pygments_lexer": "ipython2",
   "version": "2.7.9"
  }
 },
 "nbformat": 4,
 "nbformat_minor": 0
}
